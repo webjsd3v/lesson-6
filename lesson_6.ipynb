{
 "cells": [
  {
   "cell_type": "code",
   "execution_count": 5,
   "id": "36065f37-8c39-4b26-9f3f-0135a5c3e2ac",
   "metadata": {},
   "outputs": [
    {
     "name": "stdout",
     "output_type": "stream",
     "text": [
      "Error: could not convert string to float: 'invalid_amount'\n",
      "История транзакций для Иван:\n",
      "Депозит: +700.0\n",
      "Вывод: -300.0\n",
      "Вывод: -1200.0\n",
      "Текущий баланс за Иван: 700.0\n"
     ]
    }
   ],
   "source": [
    "class Account:\n",
    "    def __init__(self, name, initial_balance=0):\n",
    "        self.name = name\n",
    "        self._balance = initial_balance\n",
    "        self.transaction_history = []\n",
    "\n",
    "    @property\n",
    "    def balance(self):\n",
    "        return self._balance\n",
    "\n",
    "    def deposit(self, amount):\n",
    "        try:\n",
    "            amount = float(amount)\n",
    "            if amount > 0:\n",
    "                self._balance += amount\n",
    "                self.transaction_history.append(f\"Депозит: +{amount}\")\n",
    "                return True\n",
    "            else:\n",
    "                raise ValueError(\"Invalid: Недопустимая сумма депозита. Сумма должна быть больше нуля.\")\n",
    "        except ValueError as e:\n",
    "            print(f\"Error: {e}\")\n",
    "            return False\n",
    "\n",
    "    def withdraw(self, amount):\n",
    "        try:\n",
    "            amount = float(amount)\n",
    "            if 0 < amount <= self._balance:\n",
    "                self._balance -= amount\n",
    "                self.transaction_history.append(f\"Вывод: -{amount}\")\n",
    "                return True\n",
    "            elif amount > self._balance:\n",
    "                raise ValueError(\"Недостаточно средств. Невозможно вывести сумму, превышающую текущий баланс.\")\n",
    "            else:\n",
    "                raise ValueError(\"Invalid: Недопустимая сумма вывода. Сумма должна быть больше нуля.\")\n",
    "        except ValueError as e:\n",
    "            print(f\"Error: {e}\")\n",
    "            return False\n",
    "\n",
    "    def print_transaction_history(self):\n",
    "        print(f\"История транзакций для {self.name}:\")\n",
    "        for transaction in self.transaction_history:\n",
    "            print(transaction)\n",
    "\n",
    "# Пример использования\n",
    "account2 = Account(\"Иван\", 1500)\n",
    "account2.deposit(700)\n",
    "account2.withdraw(300)\n",
    "account2.withdraw(1200)  # Попытка снять больше, чем доступно\n",
    "account2.deposit(\"invalid_amount\")  # Попытка внести неверную сумму\n",
    "account2.print_transaction_history()\n",
    "print(f\"Текущий баланс за {account2.name}: {account2.balance}\")\n"
   ]
  },
  {
   "cell_type": "code",
   "execution_count": null,
   "id": "8d78bcf9-7d89-4aac-ba40-ad6f2cbfa4ad",
   "metadata": {},
   "outputs": [],
   "source": []
  }
 ],
 "metadata": {
  "kernelspec": {
   "display_name": "Python 3 (ipykernel)",
   "language": "python",
   "name": "python3"
  },
  "language_info": {
   "codemirror_mode": {
    "name": "ipython",
    "version": 3
   },
   "file_extension": ".py",
   "mimetype": "text/x-python",
   "name": "python",
   "nbconvert_exporter": "python",
   "pygments_lexer": "ipython3",
   "version": "3.11.6"
  }
 },
 "nbformat": 4,
 "nbformat_minor": 5
}
